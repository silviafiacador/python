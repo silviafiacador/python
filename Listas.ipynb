{
  "nbformat": 4,
  "nbformat_minor": 0,
  "metadata": {
    "colab": {
      "provenance": []
    },
    "kernelspec": {
      "name": "python3",
      "display_name": "Python 3"
    },
    "language_info": {
      "name": "python"
    }
  },
  "cells": [
    {
      "cell_type": "markdown",
      "source": [
        "Lista é uma coleção ordenada de valores, separados por vírgula e dentro de colchetes. Armazenam-se diversos itens em uma única variável"
      ],
      "metadata": {
        "id": "7_V8qJ8WgppV"
      }
    },
    {
      "cell_type": "code",
      "source": [
        "lista = ['Linguagem C', 'Python','Cobol']\n",
        "print (lista)\n",
        "lista = [1,2,3,4]\n",
        "print (lista)\n",
        "print (type(lista))"
      ],
      "metadata": {
        "colab": {
          "base_uri": "https://localhost:8080/"
        },
        "id": "-pfTscAOhDp3",
        "outputId": "bbfd1f73-6100-47e7-bcb2-13dfe1fc797b"
      },
      "execution_count": 5,
      "outputs": [
        {
          "output_type": "stream",
          "name": "stdout",
          "text": [
            "['Linguagem C', 'Python', 'Cobol']\n",
            "[1, 2, 3, 4]\n",
            "<class 'list'>\n"
          ]
        }
      ]
    },
    {
      "cell_type": "markdown",
      "source": [
        "Criando uma lista a partir da função list()"
      ],
      "metadata": {
        "id": "y8C-s6VJiBq6"
      }
    },
    {
      "cell_type": "code",
      "source": [
        "lista = list(['a','b'])\n",
        "print (lista)"
      ],
      "metadata": {
        "colab": {
          "base_uri": "https://localhost:8080/"
        },
        "id": "417BsScDiGZT",
        "outputId": "b8ec657a-3882-4ba9-b925-dbc4d5eed878"
      },
      "execution_count": 6,
      "outputs": [
        {
          "output_type": "stream",
          "name": "stdout",
          "text": [
            "['a', 'b']\n"
          ]
        }
      ]
    },
    {
      "cell_type": "markdown",
      "source": [
        "Aplicação de compreensão de lista"
      ],
      "metadata": {
        "id": "55AxyFrFjQGB"
      }
    },
    {
      "cell_type": "code",
      "source": [
        "lista = [item**2 for item in range(10)]\n",
        "print (lista)"
      ],
      "metadata": {
        "colab": {
          "base_uri": "https://localhost:8080/"
        },
        "id": "h4O0NhQZjSf1",
        "outputId": "6fa4c4a9-d647-49ad-f084-a2aa8639cc91"
      },
      "execution_count": 8,
      "outputs": [
        {
          "output_type": "stream",
          "name": "stdout",
          "text": [
            "[0, 1, 4, 9, 16, 25, 36, 49, 64, 81]\n"
          ]
        }
      ]
    },
    {
      "cell_type": "code",
      "source": [
        "lista = [numero for numero in range(20) if numero%2==0]\n",
        "print (lista)\n",
        "lista = [numero for numero in range(22) if numero%2==0]\n",
        "print (lista)"
      ],
      "metadata": {
        "colab": {
          "base_uri": "https://localhost:8080/"
        },
        "id": "bUNX4Ielj2sB",
        "outputId": "aaa43fcd-03a2-47ca-9b8f-861345c49344"
      },
      "execution_count": 10,
      "outputs": [
        {
          "output_type": "stream",
          "name": "stdout",
          "text": [
            "[0, 2, 4, 6, 8, 10, 12, 14, 16, 18]\n",
            "[0, 2, 4, 6, 8, 10, 12, 14, 16, 18, 20]\n"
          ]
        }
      ]
    },
    {
      "cell_type": "code",
      "source": [
        "lista = list(range(20))\n",
        "print (lista)"
      ],
      "metadata": {
        "colab": {
          "base_uri": "https://localhost:8080/"
        },
        "id": "Fol6Jb9hk3_1",
        "outputId": "67931665-1c81-4853-bd30-43065b78054a"
      },
      "execution_count": 15,
      "outputs": [
        {
          "output_type": "stream",
          "name": "stdout",
          "text": [
            "[0, 1, 2, 3, 4, 5, 6, 7, 8, 9, 10, 11, 12, 13, 14, 15, 16, 17, 18, 19]\n"
          ]
        }
      ]
    },
    {
      "cell_type": "markdown",
      "source": [
        "Acessando as informações da lista"
      ],
      "metadata": {
        "id": "80Ezezsilskp"
      }
    },
    {
      "cell_type": "code",
      "source": [
        "lista = ['a','b','c','d']\n",
        "print (lista[0])\n",
        "print (lista[3])\n",
        "print (lista[4])"
      ],
      "metadata": {
        "colab": {
          "base_uri": "https://localhost:8080/",
          "height": 256
        },
        "id": "eZ0YLViYlvkd",
        "outputId": "e3be5054-1001-4adc-f2b8-df4330abf197"
      },
      "execution_count": 17,
      "outputs": [
        {
          "output_type": "stream",
          "name": "stdout",
          "text": [
            "a\n",
            "d\n"
          ]
        },
        {
          "output_type": "error",
          "ename": "IndexError",
          "evalue": "ignored",
          "traceback": [
            "\u001b[0;31m---------------------------------------------------------------------------\u001b[0m",
            "\u001b[0;31mIndexError\u001b[0m                                Traceback (most recent call last)",
            "\u001b[0;32m<ipython-input-17-0891018d9b26>\u001b[0m in \u001b[0;36m<cell line: 4>\u001b[0;34m()\u001b[0m\n\u001b[1;32m      2\u001b[0m \u001b[0mprint\u001b[0m \u001b[0;34m(\u001b[0m\u001b[0mlista\u001b[0m\u001b[0;34m[\u001b[0m\u001b[0;36m0\u001b[0m\u001b[0;34m]\u001b[0m\u001b[0;34m)\u001b[0m\u001b[0;34m\u001b[0m\u001b[0;34m\u001b[0m\u001b[0m\n\u001b[1;32m      3\u001b[0m \u001b[0mprint\u001b[0m \u001b[0;34m(\u001b[0m\u001b[0mlista\u001b[0m\u001b[0;34m[\u001b[0m\u001b[0;36m3\u001b[0m\u001b[0;34m]\u001b[0m\u001b[0;34m)\u001b[0m\u001b[0;34m\u001b[0m\u001b[0;34m\u001b[0m\u001b[0m\n\u001b[0;32m----> 4\u001b[0;31m \u001b[0mprint\u001b[0m \u001b[0;34m(\u001b[0m\u001b[0mlista\u001b[0m\u001b[0;34m[\u001b[0m\u001b[0;36m4\u001b[0m\u001b[0;34m]\u001b[0m\u001b[0;34m)\u001b[0m\u001b[0;34m\u001b[0m\u001b[0;34m\u001b[0m\u001b[0m\n\u001b[0m",
            "\u001b[0;31mIndexError\u001b[0m: list index out of range"
          ]
        }
      ]
    },
    {
      "cell_type": "markdown",
      "source": [
        "Acessando o último item da lista - indexação negativa"
      ],
      "metadata": {
        "id": "AT8ZbBahmpHH"
      }
    },
    {
      "cell_type": "code",
      "source": [
        "lista = ['a','b','c','d']\n",
        "print(lista[-1])\n",
        "print(lista[3])\n",
        "print(lista[-2])"
      ],
      "metadata": {
        "colab": {
          "base_uri": "https://localhost:8080/"
        },
        "id": "KW3jIuiXmu_A",
        "outputId": "6630d841-ef12-4c42-db6e-95d634117e67"
      },
      "execution_count": 21,
      "outputs": [
        {
          "output_type": "stream",
          "name": "stdout",
          "text": [
            "d\n",
            "d\n",
            "c\n"
          ]
        }
      ]
    },
    {
      "cell_type": "markdown",
      "source": [
        "Lista com uma sublista. Como acessar as informações da sublista"
      ],
      "metadata": {
        "id": "KpTZvJsYohZI"
      }
    },
    {
      "cell_type": "code",
      "source": [],
      "metadata": {
        "id": "915v-u8Epbv5"
      },
      "execution_count": null,
      "outputs": []
    },
    {
      "cell_type": "code",
      "source": [
        "lista=[1,2,3,4,['a','b','c'],5,6]\n",
        "print (lista)\n",
        "#pegando o elemento a da sublista\n",
        "print (lista[4][0])    # a sublista começa na posição 4 e dentro da sublista a letra a está na posição 0\n",
        "print (lista[4])\n",
        "lista.append(22)    #inserindo elemento no FINAL DA LISTA\n",
        "print (lista)\n",
        "lista.insert(0,'x')   #INSERINDO ELEMENTO NA POSIÇÃO DESEJADA\n",
        "print (lista)\n",
        "lista.append(100)\n",
        "print (f\"Lista completa: {lista}\")\n",
        "\n"
      ],
      "metadata": {
        "colab": {
          "base_uri": "https://localhost:8080/"
        },
        "id": "0AWuhJkZomTW",
        "outputId": "eed38d3a-2fac-46bc-a27e-400d84bb94ac"
      },
      "execution_count": 40,
      "outputs": [
        {
          "output_type": "stream",
          "name": "stdout",
          "text": [
            "[1, 2, 3, 4, ['a', 'b', 'c'], 5, 6]\n",
            "a\n",
            "['a', 'b', 'c']\n",
            "[1, 2, 3, 4, ['a', 'b', 'c'], 5, 6, 22]\n",
            "['x', 1, 2, 3, 4, ['a', 'b', 'c'], 5, 6, 22]\n",
            "Lista completa: ['x', 1, 2, 3, 4, ['a', 'b', 'c'], 5, 6, 22, 100]\n"
          ]
        }
      ]
    },
    {
      "cell_type": "markdown",
      "source": [
        "Percorrendo uma lista"
      ],
      "metadata": {
        "id": "oLKWHrnEtKXN"
      }
    },
    {
      "cell_type": "code",
      "source": [
        "lista=[1,2,3,4,['a','b','c'],5,6]\n",
        "for num in lista:\n",
        "  print (num)\n"
      ],
      "metadata": {
        "colab": {
          "base_uri": "https://localhost:8080/"
        },
        "id": "lgn8oqscti1M",
        "outputId": "0e58767d-ff62-4a52-f678-240d7ea104b4"
      },
      "execution_count": 34,
      "outputs": [
        {
          "output_type": "stream",
          "name": "stdout",
          "text": [
            "1\n",
            "2\n",
            "3\n",
            "4\n",
            "['a', 'b', 'c']\n",
            "5\n",
            "6\n"
          ]
        }
      ]
    },
    {
      "cell_type": "code",
      "source": [
        "lista=[1,2,3,4,['a','b','c'],5,6]\n",
        "for indice, valor in enumerate(lista):\n",
        "    print(f'índice={indice}, valor={valor}')\n",
        "\n"
      ],
      "metadata": {
        "colab": {
          "base_uri": "https://localhost:8080/"
        },
        "id": "QlPqwFJ2uF7T",
        "outputId": "8aa51c6f-ea62-41b8-d98f-49e886ceedb4"
      },
      "execution_count": 38,
      "outputs": [
        {
          "output_type": "stream",
          "name": "stdout",
          "text": [
            "índice=0, valor=1\n",
            "índice=1, valor=2\n",
            "índice=2, valor=3\n",
            "índice=3, valor=4\n",
            "índice=4, valor=['a', 'b', 'c']\n",
            "índice=5, valor=5\n",
            "índice=6, valor=6\n"
          ]
        }
      ]
    },
    {
      "cell_type": "markdown",
      "source": [
        "Fatiando uma lista (slicing)\n",
        "O fatiamento de listas, do inglês slicing, é a extração de um conjunto de elementos contidos numa lista. Ele é feito da seguinte forma:\n",
        "\n",
        "lista[ inicio : fim : passo ]"
      ],
      "metadata": {
        "id": "77kbESYCy6Jb"
      }
    },
    {
      "cell_type": "code",
      "source": [
        "lista=[1,2,3,4,['a','b','c'],5,6]\n",
        "print (lista[2:4:1])"
      ],
      "metadata": {
        "colab": {
          "base_uri": "https://localhost:8080/"
        },
        "id": "ukNnyNPkzD5C",
        "outputId": "24cd4898-3743-4414-c530-b27226b06400"
      },
      "execution_count": 43,
      "outputs": [
        {
          "output_type": "stream",
          "name": "stdout",
          "text": [
            "[3, 4]\n"
          ]
        }
      ]
    },
    {
      "cell_type": "code",
      "source": [
        "lista=[41,12,3,4,99,5,6]\n",
        "lista.sort()\n",
        "print(lista)\n",
        "lista.sort(reverse=True)  #ordem inversa\n",
        "print(lista)\n",
        "\n",
        "\n",
        "print (f'Maior valor da lista: {max(lista)}')\n",
        "print (f'Menor valor da lista: {min(lista)}')\n",
        "print (f'Tamanho da lista: {len(lista)}')"
      ],
      "metadata": {
        "colab": {
          "base_uri": "https://localhost:8080/"
        },
        "id": "9BtXv7n80xa_",
        "outputId": "18542b0c-d47e-404b-e27e-27143a41443e"
      },
      "execution_count": 54,
      "outputs": [
        {
          "output_type": "stream",
          "name": "stdout",
          "text": [
            "[3, 4, 5, 6, 12, 41, 99]\n",
            "[99, 41, 12, 6, 5, 4, 3]\n",
            "Maior valor da lista: 99\n",
            "Menor valor da lista: 3\n",
            "Tamanho da lista: 7\n"
          ]
        }
      ]
    },
    {
      "cell_type": "code",
      "source": [
        "lista=[]\n",
        "lista.append(input(\"Informe um número: \"))\n",
        "print (lista)"
      ],
      "metadata": {
        "colab": {
          "base_uri": "https://localhost:8080/"
        },
        "id": "zLUPmrm71Waz",
        "outputId": "4bab1dfd-9954-43bb-9f41-267d4580de13"
      },
      "execution_count": 47,
      "outputs": [
        {
          "output_type": "stream",
          "name": "stdout",
          "text": [
            "Informe um número: 122\n",
            "[122]\n"
          ]
        }
      ]
    },
    {
      "cell_type": "markdown",
      "source": [],
      "metadata": {
        "id": "72eEc8t13dWZ"
      }
    },
    {
      "cell_type": "code",
      "source": [
        "Função\n",
        "Métodos"
      ],
      "metadata": {
        "id": "ZrcZHvWV3eQz"
      },
      "execution_count": null,
      "outputs": []
    },
    {
      "cell_type": "code",
      "source": [],
      "metadata": {
        "id": "O4qH6K-41WC8"
      },
      "execution_count": null,
      "outputs": []
    }
  ]
}